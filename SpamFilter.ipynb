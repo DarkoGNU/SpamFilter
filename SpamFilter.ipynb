{
 "cells": [
  {
   "cell_type": "markdown",
   "metadata": {},
   "source": [
    "Import the needed packages"
   ]
  },
  {
   "cell_type": "code",
   "execution_count": 7,
   "metadata": {},
   "outputs": [],
   "source": [
    "using TextAnalysis: NaiveBayesClassifier, fit!, predict\n",
    "using CSV\n",
    "using DataFrames"
   ]
  },
  {
   "cell_type": "markdown",
   "metadata": {},
   "source": [
    "Read the dataset and drop unnecessary columns"
   ]
  },
  {
   "cell_type": "code",
   "execution_count": 8,
   "metadata": {},
   "outputs": [
    {
     "name": "stdout",
     "output_type": "stream",
     "text": [
      "thread = 1 warning: only found 4 / 5 columns on data row: 5572. Filling remaining columns with `missing`\n"
     ]
    },
    {
     "data": {
      "text/html": [
       "<table class=\"data-frame\"><thead><tr><th></th><th>v1</th><th>v2</th></tr><tr><th></th><th>String</th><th>String</th></tr></thead><tbody><p>10 rows × 2 columns</p><tr><th>1</th><td>ham</td><td>Go until jurong point, crazy.. Available only in bugis n great world la e buffet... Cine there got amore wat...</td></tr><tr><th>2</th><td>ham</td><td>Ok lar... Joking wif u oni...</td></tr><tr><th>3</th><td>spam</td><td>Free entry in 2 a wkly comp to win FA Cup final tkts 21st May 2005. Text FA to 87121 to receive entry question(std txt rate)T&amp;C's apply 08452810075over18's</td></tr><tr><th>4</th><td>ham</td><td>U dun say so early hor... U c already then say...</td></tr><tr><th>5</th><td>ham</td><td>Nah I don't think he goes to usf, he lives around here though</td></tr><tr><th>6</th><td>spam</td><td>FreeMsg Hey there darling it's been 3 week's now and no word back! I'd like some fun you up for it still? Tb ok! XxX std chgs to send, \\xe5\\xa31.50 to rcv</td></tr><tr><th>7</th><td>ham</td><td>Even my brother is not like to speak with me. They treat me like aids patent.</td></tr><tr><th>8</th><td>ham</td><td>As per your request 'Melle Melle (Oru Minnaminunginte Nurungu Vettam)' has been set as your callertune for all Callers. Press *9 to copy your friends Callertune</td></tr><tr><th>9</th><td>spam</td><td>WINNER!! As a valued network customer you have been selected to receivea \\xe5\\xa3900 prize reward! To claim call 09061701461. Claim code KL341. Valid 12 hours only.</td></tr><tr><th>10</th><td>spam</td><td>Had your mobile 11 months or more? U R entitled to Update to the latest colour mobiles with camera for Free! Call The Mobile Update Co FREE on 08002986030</td></tr></tbody></table>"
      ],
      "text/latex": [
       "\\begin{tabular}{r|cc}\n",
       "\t& v1 & v2\\\\\n",
       "\t\\hline\n",
       "\t& String & String\\\\\n",
       "\t\\hline\n",
       "\t1 & ham & Go until jurong point, crazy.. Available only in bugis n great world la e buffet... Cine there got amore wat... \\\\\n",
       "\t2 & ham & Ok lar... Joking wif u oni... \\\\\n",
       "\t3 & spam & Free entry in 2 a wkly comp to win FA Cup final tkts 21st May 2005. Text FA to 87121 to receive entry question(std txt rate)T\\&C's apply 08452810075over18's \\\\\n",
       "\t4 & ham & U dun say so early hor... U c already then say... \\\\\n",
       "\t5 & ham & Nah I don't think he goes to usf, he lives around here though \\\\\n",
       "\t6 & spam & FreeMsg Hey there darling it's been 3 week's now and no word back! I'd like some fun you up for it still? Tb ok! XxX std chgs to send, \\textbackslash{}xe5\\textbackslash{}xa31.50 to rcv \\\\\n",
       "\t7 & ham & Even my brother is not like to speak with me. They treat me like aids patent. \\\\\n",
       "\t8 & ham & As per your request 'Melle Melle (Oru Minnaminunginte Nurungu Vettam)' has been set as your callertune for all Callers. Press *9 to copy your friends Callertune \\\\\n",
       "\t9 & spam & WINNER!! As a valued network customer you have been selected to receivea \\textbackslash{}xe5\\textbackslash{}xa3900 prize reward! To claim call 09061701461. Claim code KL341. Valid 12 hours only. \\\\\n",
       "\t10 & spam & Had your mobile 11 months or more? U R entitled to Update to the latest colour mobiles with camera for Free! Call The Mobile Update Co FREE on 08002986030 \\\\\n",
       "\\end{tabular}\n"
      ],
      "text/plain": [
       "10×2 DataFrame. Omitted printing of 1 columns\n",
       "│ Row │ v1     │\n",
       "│     │ \u001b[90mString\u001b[39m │\n",
       "├─────┼────────┤\n",
       "│ 1   │ ham    │\n",
       "│ 2   │ ham    │\n",
       "│ 3   │ spam   │\n",
       "│ 4   │ ham    │\n",
       "│ 5   │ ham    │\n",
       "│ 6   │ spam   │\n",
       "│ 7   │ ham    │\n",
       "│ 8   │ ham    │\n",
       "│ 9   │ spam   │\n",
       "│ 10  │ spam   │"
      ]
     },
     "execution_count": 8,
     "metadata": {},
     "output_type": "execute_result"
    }
   ],
   "source": [
    "messages = CSV.read(\"spam.csv\")\n",
    "select!(messages, 1, 2)\n",
    "first(messages, 10)"
   ]
  },
  {
   "cell_type": "markdown",
   "metadata": {},
   "source": [
    "Divide into two groups, remove unwanted characters and make lowercase"
   ]
  },
  {
   "cell_type": "code",
   "execution_count": 14,
   "metadata": {},
   "outputs": [],
   "source": [
    "prepare(arr) = map(arr) do x\n",
    "    x = filter(isascii, x)\n",
    "    x = lowercase(x)\n",
    "    x = replace(x, r\"[^a-z ]\" => \"\")\n",
    "end\n",
    "\n",
    "messages.v2 = prepare(messages.v2)\n",
    "\n",
    "ham = filter(x -> x[:1] == \"ham\", messages).v2\n",
    "spam = filter(x -> x[:1] == \"spam\", messages).v2;"
   ]
  },
  {
   "cell_type": "markdown",
   "metadata": {},
   "source": [
    "Create a model and feed it with data"
   ]
  },
  {
   "cell_type": "code",
   "execution_count": 17,
   "metadata": {},
   "outputs": [],
   "source": [
    "m = NaiveBayesClassifier([:spam, :ham])\n",
    "\n",
    "map(msg -> fit!(m, msg, :ham), ham)\n",
    "map(msg -> fit!(m, msg, :spam), spam);"
   ]
  },
  {
   "cell_type": "markdown",
   "metadata": {},
   "source": [
    "Create a function to classify messages"
   ]
  },
  {
   "cell_type": "code",
   "execution_count": 18,
   "metadata": {},
   "outputs": [
    {
     "data": {
      "text/plain": [
       "is_spam (generic function with 1 method)"
      ]
     },
     "execution_count": 18,
     "metadata": {},
     "output_type": "execute_result"
    }
   ],
   "source": [
    "function is_spam(msg)\n",
    "    result = predict(m, msg)\n",
    "    result[:spam] > result[:ham]\n",
    "end"
   ]
  },
  {
   "cell_type": "code",
   "execution_count": null,
   "metadata": {},
   "outputs": [],
   "source": []
  }
 ],
 "metadata": {
  "kernelspec": {
   "display_name": "Julia 1.3.0",
   "language": "julia",
   "name": "julia-1.3"
  },
  "language_info": {
   "file_extension": ".jl",
   "mimetype": "application/julia",
   "name": "julia",
   "version": "1.3.0"
  }
 },
 "nbformat": 4,
 "nbformat_minor": 4
}
